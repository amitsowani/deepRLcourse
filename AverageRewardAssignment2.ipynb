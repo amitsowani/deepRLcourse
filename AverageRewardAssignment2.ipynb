{
 "cells": [
  {
   "cell_type": "code",
   "execution_count": 7,
   "metadata": {},
   "outputs": [],
   "source": [
    "import math\n",
    "import numpy as np\n",
    "import matplotlib.pyplot as plt\n",
    "import copy\n",
    "from matplotlib.backends.backend_pdf import PdfPages"
   ]
  },
  {
   "cell_type": "code",
   "execution_count": 2,
   "metadata": {},
   "outputs": [],
   "source": [
    "# Define the model of the system\n",
    "\n",
    "def next_state_and_reward(s,a):\n",
    "    r = 0\n",
    "    if s == 2:\n",
    "        sp = 22\n",
    "        r = 10\n",
    "    elif s ==4:\n",
    "        sp = 14\n",
    "        r = 5\n",
    "    elif a == 0:     # Action = UP\n",
    "        if s<=5:     # State in top row\n",
    "            sp = s\n",
    "            r = -1\n",
    "        else:\n",
    "            sp = s - 5\n",
    "    elif a == 1:     # Action = RIGHT\n",
    "        if s%5==0:   # State in rightmost column\n",
    "            sp = s\n",
    "            r = -1\n",
    "        else:\n",
    "            sp = s + 1\n",
    "    elif a == 2:     # Action = DOWN\n",
    "        if s>=21:     # State in bottom row\n",
    "            sp = s\n",
    "            r = -1\n",
    "        else:\n",
    "            sp = s + 5\n",
    "    elif a == 3:     # Action = LEFT\n",
    "        if s%5==1:   # State in leftmost column\n",
    "            sp = s\n",
    "            r = -1\n",
    "        else:\n",
    "            sp = s - 1\n",
    "    \n",
    "    return (sp,r)"
   ]
  },
  {
   "cell_type": "code",
   "execution_count": 3,
   "metadata": {},
   "outputs": [],
   "source": [
    "# Helper Functions\n",
    "def alphaT(t):\n",
    "    return 1/math.ceil((t+1)/100)\n",
    "    \n",
    "def betaT(t,c):\n",
    "    return c*alphaT(t)"
   ]
  },
  {
   "cell_type": "code",
   "execution_count": 4,
   "metadata": {},
   "outputs": [],
   "source": [
    "def runExperiment(s0,T,c):\n",
    "    # Initialize Algorithm Parameters\n",
    "    w =  np.zeros(25)\n",
    "    avgR = 0\n",
    "\n",
    "    s = s0      #Set initial state\n",
    "\n",
    "    # Performance Metrics \n",
    "    wArray = []\n",
    "    avgRarray = []\n",
    "\n",
    "    #Algorithm\n",
    "\n",
    "    for t in range(T):\n",
    "        a = np.random.randint(4)       # Select random action\n",
    "        sp,R = next_state_and_reward(s,a)\n",
    "\n",
    "        avgR += betaT(t,c)*(R-avgR)      # Update the average reward\n",
    "\n",
    "        dt = R - avgR + w[sp-1] - w[s-1]   # Computing the TD error\n",
    "\n",
    "        w[s-1] += alphaT(t) * dt\n",
    "\n",
    "        s = sp                         # Set next state as current state\n",
    "        \n",
    "        wp = copy.copy(w)\n",
    "        wArray.append(wp)\n",
    "        avgRarray.append(avgR)    \n",
    "    \n",
    "    return (wArray,avgRarray)\n",
    "    "
   ]
  },
  {
   "cell_type": "code",
   "execution_count": 5,
   "metadata": {},
   "outputs": [
    {
     "name": "stdout",
     "output_type": "stream",
     "text": [
      "[-0.9  0.   0.   0.   0.   0.   0.   0.   0.   0.   0.   0.   0.   0.\n",
      "  0.   0.   0.   0.   0.   0.   0.   0.   0.   0.   0. ]\n",
      "[[ 5.39639434  8.16702185  4.85600277  5.33109609  2.23218346]\n",
      " [ 3.05287817  3.61265629  2.60548934  2.17217062  0.76234072]\n",
      " [ 0.54079574  0.98296012  0.9175583   0.43511052 -0.45962136]\n",
      " [-1.35096752 -0.78782248 -0.79115586 -1.12814276 -1.42649373]\n",
      " [-2.69607229 -2.07381918 -1.88928627 -2.2221606  -2.4911943 ]]\n"
     ]
    },
    {
     "data": {
      "text/plain": [
       "[<matplotlib.lines.Line2D at 0x2417efe42c8>]"
      ]
     },
     "execution_count": 5,
     "metadata": {},
     "output_type": "execute_result"
    },
    {
     "data": {
      "image/png": "[encoded data removed]",
      "text/plain": [
       "<Figure size 432x288 with 1 Axes>"
      ]
     },
     "metadata": {
      "needs_background": "light"
     },
     "output_type": "display_data"
    }
   ],
   "source": [
    "# Experiment Parameters\n",
    "s0 = 1     # Starting State\n",
    "T = 5000   # Time steps for running the experiment\n",
    "\n",
    "# Algorithm HyperParameters\n",
    "c = 0.1 \n",
    "\n",
    "wArray,avgRarray = runExperiment(s0,T,c)\n",
    "\n",
    "print(wArray[0])\n",
    "print(wArray[-1].reshape(5,5))\n",
    "\n",
    "\n",
    "plt.plot(range(T),[item[1] for item in wArray],label=\"s0=1,c=0.1\")\n",
    "\n"
   ]
  },
  {
   "cell_type": "code",
   "execution_count": 25,
   "metadata": {},
   "outputs": [],
   "source": [
    "with PdfPages(r'TrajectoryPlots.pdf') as export_pdf:\n",
    "    T=5000\n",
    "    \n",
    "    for s0 in [1,13,25]:\n",
    "        for c in [0.1,1,10]:\n",
    "            \n",
    "            wArray,avgRarray = runExperiment(s0,T,c)\n",
    "\n",
    "            fig = plt.figure()\n",
    "            \n",
    "            fig.subplots_adjust(left=0.15, wspace=0.05)\n",
    "            plt.subplot2grid((7, 3), (0, 0), colspan=3)\n",
    "\n",
    "            txt = \"Starting Position: \"+str(s0)+\" Algorithm Parameter c: \"+str(c)            \n",
    "            plt.text(0.05,0.95,txt, transform=fig.transFigure, size=16)\n",
    "            plt.axis('off')\n",
    "            \n",
    "            \n",
    "            plt.subplot2grid((7, 3), (1, 0), rowspan=2)\n",
    "            plt.plot(range(T),avgRarray)\n",
    "            plt.title('Avg Reward over 5K time steps')\n",
    "            plt.xlabel('Time Steps')\n",
    "            plt.ylabel('Avg Reward')\n",
    "            \n",
    "            position = {1:(1, 2), 13:(5, 0), 25:(5, 2)}\n",
    "            for j in [1,13,25]:\n",
    "                plt.subplot2grid((7, 3), position[j] , rowspan=2)\n",
    "                plt.plot(range(T),[item[j-1] for item in wArray])\n",
    "                plt.title('Weight '+str(j)+' over 5K time steps')\n",
    "                plt.xlabel('Time Steps')\n",
    "                plt.ylabel('Weight: '+str(j))\n",
    "        \n",
    "            export_pdf.savefig()\n",
    "        \n",
    "            plt.close()\n"
   ]
  },
  {
   "cell_type": "code",
   "execution_count": null,
   "metadata": {},
   "outputs": [],
   "source": []
  }
 ],
 "metadata": {
  "kernelspec": {
   "display_name": "Python 3",
   "language": "python",
   "name": "python3"
  },
  "language_info": {
   "codemirror_mode": {
    "name": "ipython",
    "version": 3
   },
   "file_extension": ".py",
   "mimetype": "text/x-python",
   "name": "python",
   "nbconvert_exporter": "python",
   "pygments_lexer": "ipython3",
   "version": "3.7.4"
  }
 },
 "nbformat": 4,
 "nbformat_minor": 2
}
