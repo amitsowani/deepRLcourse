{
 "cells": [
  {
   "cell_type": "markdown",
   "metadata": {},
   "source": [
    "Assignment 1 - Cliff Walking\n",
    "\n",
    "Compare Sarsa and Q-learning for the gridworld in the diagram below using ε-greedy and UCB based action selection.\n",
    "\n",
    "![title](img/cliffWalking.png)\n",
    "\n",
    "It is a standard undiscounted, episodic task, with start and goal states, and the usual actions causing movement up, down, right, and left. Reward is −1 on all transitions except those into the the region marked “The Cliff.” Stepping into this region incurs a reward of −100 and sends the agent instantly back to the start. \n"
   ]
  },
  {
   "cell_type": "code",
   "execution_count": 37,
   "metadata": {},
   "outputs": [],
   "source": [
    "import numpy as np\n",
    "import random\n",
    "from math import log\n",
    "import matplotlib.pyplot as plt\n",
    "from scipy.signal import savgol_filter"
   ]
  },
  {
   "cell_type": "markdown",
   "metadata": {},
   "source": [
    "Helper Functions - Implementation of ε-greedy and UCB action selection"
   ]
  },
  {
   "cell_type": "code",
   "execution_count": 38,
   "metadata": {},
   "outputs": [],
   "source": [
    "#ε-greedy action selection\n",
    "\"\"\"\n",
    "qsa- Action value function\n",
    "y,x - Coordinates of current state\n",
    "epsilon - ε-greedy parameter\n",
    "\"\"\"\n",
    "\n",
    "def epsilonGreedy(qsa,y,x,epsilon):\n",
    "    if random.uniform(0, 1) < epsilon:    #Explore: Select action at random\n",
    "        action = random.randrange(4)\n",
    "    else:                                 #Exploit: Select action based on maximum action value, use random to break ties\n",
    "        action=np.random.choice(np.flatnonzero(qsa[y][x] == qsa[y][x].max())) \n",
    "    return action"
   ]
  },
  {
   "cell_type": "code",
   "execution_count": 39,
   "metadata": {},
   "outputs": [],
   "source": [
    "#Upper Confidence Bound action selection\n",
    "\"\"\"\n",
    "qsa- Action value function\n",
    "y,x - Coordinates of current state\n",
    "c - UCB sensitivity parameter\n",
    "nt - Number of times action selected in current state\n",
    "t- Time elapsed\n",
    "\"\"\"\n",
    "\n",
    "def ucb(qsa,y,x,c,nt,t):\n",
    "    temp=qsa[y][x]+c*((log(t)/(nt[y-1][x-1]+0.0001))**1/2)\n",
    "    action=np.random.choice(np.flatnonzero(temp == temp.max()))\n",
    "    return action"
   ]
  },
  {
   "cell_type": "code",
   "execution_count": 72,
   "metadata": {},
   "outputs": [],
   "source": [
    "#Updating next state\n",
    "def nextState(y,x,action):\n",
    "    tempx=x\n",
    "    tempy=y\n",
    "    if action==0:\n",
    "        tempx=x-1\n",
    "    elif action==1:\n",
    "        tempy=y-1\n",
    "    elif action==2:\n",
    "        tempx=x+1\n",
    "    elif action==3:\n",
    "        tempy=y+1\n",
    "    return tempx,tempy\n",
    "\n",
    "#Visualizing Path\n",
    "def findPath(qsa):\n",
    "    pathx=[]\n",
    "    pathy=[]\n",
    "    x=1\n",
    "    y=b\n",
    "    pathx.append(x)\n",
    "    pathy.append(y)\n",
    "    while x!=l or y!=b:\n",
    "        action=np.random.choice(np.flatnonzero(qsa[y][x] == qsa[y][x].max()))\n",
    "        x,y=nextState(y,x,action)\n",
    "        pathx.append(x)\n",
    "        pathy.append(y)\n",
    "    return pathx,pathy"
   ]
  },
  {
   "cell_type": "markdown",
   "metadata": {},
   "source": [
    "SARSA Algorithm"
   ]
  },
  {
   "cell_type": "code",
   "execution_count": 91,
   "metadata": {},
   "outputs": [],
   "source": [
    "def sarsa(policy=\"epsilonGreedy\",onOff=\"on\",epsilon0=0.1,c=0.1,b=4,l=12,reward=-1,cliffReward=-100):\n",
    "    # Algorithm parameters\n",
    "    numIter=500                      #Number of iterations of the algorithm\n",
    "    alpha=0.5                         #Learning Rate\n",
    "    gamma=1                          # Discount Factor - Set to 1 as this is an undiscounted task\n",
    "\n",
    "    # Initialize the action value function and the number of times action tied in state to be zero for all state action pairs.\n",
    "    qsa=np.zeros((b+2,l+2,4))    #For each state there are 4 possible actions\n",
    "    nt=np.zeros((b,l,4))\n",
    "\n",
    "    rewards=[]               #Array to maintain the rewards for each iteration\n",
    "    t=1                      #Counter for measuring time elapsed\n",
    "\n",
    "    for _ in range(numIter):\n",
    "        # Initialize starting position and temporary variables\n",
    "        y=tempy=b\n",
    "        x=tempx=1\n",
    "        sumReward=0\n",
    "\n",
    "        epsilon=epsilon0    #/(numIter//100+1)            #Reduce Epsilon as time progresses\n",
    "\n",
    "        while True:\n",
    "\n",
    "            if x==l and y==b:\n",
    "                rewards.append(sumReward)\n",
    "                break\n",
    "\n",
    "            # Based on policy identify ifthe algorithm should explore or exploit and select action 0-Left, 1-Up, 2-Right, 3-Down\n",
    "            if policy==\"epsilonGreedy\":\n",
    "                action=epsilonGreedy(qsa,y,x,epsilon)\n",
    "            elif policy ==\"ucb\":\n",
    "                action=ucb(qsa,y,x,c,nt,t)\n",
    "\n",
    "            # Update the next state\n",
    "            tempx,tempy =nextState(y,x,action)\n",
    "\n",
    "            # Identify the next state and the reward\n",
    "            if tempx==0 or tempy==0 or tempx==l+1 or tempy==b+1:          #Check if the next state falls off the grid\n",
    "                qsa[y][x][action]+=alpha*(reward+gamma*qsa[tempy][tempx][0]-qsa[y][x][action])\n",
    "\n",
    "                if onOff==\"off\":\n",
    "                    actionPrime=epsilonGreedy(qsa,y,x,0)\n",
    "                elif onOff==\"on\":\n",
    "                    if policy==\"epsilonGreedy\":\n",
    "                        actionPrime=epsilonGreedy(qsa,y,x,epsilon)\n",
    "                    elif policy ==\"ucb\":\n",
    "                        actionPrime=ucb(qsa,y,x,c,nt,t)\n",
    "\n",
    "                qsa[tempy][tempx][0]+=alpha*(reward+gamma*qsa[y][x][actionPrime]-qsa[tempy][tempx][0])\n",
    "                sumReward+=2*reward \n",
    "\n",
    "            elif tempy==b and tempx>1 and tempx<l:                    #Check if the next state falls off the cliff\n",
    "                qsa[y][x][action]+=alpha*(cliffReward+gamma*qsa[tempy][tempx][0]-qsa[y][x][action])\n",
    "\n",
    "                if onOff==\"off\":\n",
    "                    actionPrime=epsilonGreedy(qsa,b,1,0)\n",
    "                elif onOff==\"on\":\n",
    "                    if policy==\"epsilonGreedy\":\n",
    "                        actionPrime=epsilonGreedy(qsa,b,1,epsilon)\n",
    "                    elif policy ==\"ucb\":\n",
    "                        actionPrime=ucb(qsa,b,1,c,nt,t)\n",
    "\n",
    "                qsa[tempy][tempx][0]+=alpha*(reward+gamma*qsa[b][1][actionPrime]-qsa[tempy][tempx][0])\n",
    "                x=1\n",
    "                y=b\n",
    "                sumReward+=cliffReward+reward\n",
    "\n",
    "            else:                                           \n",
    "                if onOff==\"off\":\n",
    "                    actionPrime=epsilonGreedy(qsa,tempy,tempx,0)\n",
    "                elif onOff==\"on\":\n",
    "                    if policy==\"epsilonGreedy\":\n",
    "                        actionPrime=epsilonGreedy(qsa,tempy,tempx,epsilon)\n",
    "                    elif policy ==\"ucb\":\n",
    "                        actionPrime=ucb(qsa,tempy,tempx,c,nt,t)\n",
    "                qsa[y][x][action]+=alpha*(reward+gamma*qsa[tempy][tempx][actionPrime]-qsa[y][x][action]) \n",
    "                x=tempx\n",
    "                y=tempy\n",
    "                sumReward+=reward\n",
    "\n",
    "    #Identify path learnt by algorithm\n",
    "    pathx,pathy=findPath(qsa)\n",
    "    return rewards,pathx,pathy"
   ]
  },
  {
   "cell_type": "code",
   "execution_count": 105,
   "metadata": {},
   "outputs": [
    {
     "data": {
      "text/plain": [
       "<matplotlib.legend.Legend at 0xf807b30>"
      ]
     },
     "execution_count": 105,
     "metadata": {},
     "output_type": "execute_result"
    },
    {
     "data": {
      "image/png": "[encoded data removed]",
      "text/plain": [
       "<Figure size 432x288 with 1 Axes>"
      ]
     },
     "metadata": {},
     "output_type": "display_data"
    }
   ],
   "source": [
    "#Specify the grid world\n",
    "b=4\n",
    "l=12\n",
    "reward=-1\n",
    "cliffReward=-100\n",
    "\n",
    "%matplotlib inline\n",
    "plt.style.use('seaborn-whitegrid')\n",
    "x = range(numIter)\n",
    "plt.ylim(-100, 0)\n",
    "\n",
    "\n",
    "rewards,pathx,pathy=sarsa(policy=\"epsilonGreedy\",onOff=\"off\",epsilon0=0.2,c=0.1,b=b,l=l,reward=reward,cliffReward=cliffReward)\n",
    "yhat = savgol_filter(rewards,51, 1)\n",
    "plt.plot(x,yhat,label=\"Q-learning\")\n",
    "rewards,pathx,pathy=sarsa(policy=\"epsilonGreedy\",onOff=\"on\",epsilon0=0.2,c=0.1,b=b,l=l,reward=reward,cliffReward=cliffReward)\n",
    "yhat = savgol_filter(rewards,51, 1)\n",
    "plt.plot(x,yhat,label=\"ε-greedy\")\n",
    "rewards,pathx,pathy=sarsa(policy=\"ucb\",onOff=\"on\",epsilon0=0.05,c=0.1,b=b,l=l,reward=reward,cliffReward=cliffReward)\n",
    "yhat = savgol_filter(rewards,11, 1)\n",
    "plt.plot(x,yhat,label=\"UCB\")\n",
    "\n",
    "\n",
    "plt.title('Comparison of Sarsa ε-greedy, UCB and Qlearning')\n",
    "plt.xlabel('Episodes')\n",
    "plt.ylabel('Sum of rewards')\n",
    "\n",
    "\n",
    "plt.legend()"
   ]
  },
  {
   "cell_type": "code",
   "execution_count": 46,
   "metadata": {},
   "outputs": [
    {
     "data": {
      "image/png": "[encoded data removed]",
      "text/plain": [
       "<Figure size 432x288 with 1 Axes>"
      ]
     },
     "metadata": {},
     "output_type": "display_data"
    }
   ],
   "source": [
    "plt.plot(pathx,pathy, color='red')\n",
    "plt.ylim(4, 0)\n",
    "plt.show()"
   ]
  },
  {
   "cell_type": "markdown",
   "metadata": {},
   "source": [
    "Sarsa and Q-learning methods with ε-greedy and UCB based action selection. \n",
    "\n",
    "Q-learning learns values for the optimal policy, that  travels right along the edge of the cliff. But this results in its occasionally falling off the cliff because of the ε-greedy action selection.Sarsa, on the other hand, takes the action selection into account and learns the longer but safer path through the upper part of the grid. \n",
    "Although Qlearning actually learns the values of the optimal policy, its on-line performance is worse than that of Sarsa, which learns the roundabout policy. \n",
    "UCB learns the optimal path with good online performance as the actions are selected based on the experience gained by exploring various actions in a given state a large number of times."
   ]
  },
  {
   "cell_type": "code",
   "execution_count": null,
   "metadata": {},
   "outputs": [],
   "source": []
  }
 ],
 "metadata": {
  "kernelspec": {
   "display_name": "Python 3",
   "language": "python",
   "name": "python3"
  },
  "language_info": {
   "codemirror_mode": {
    "name": "ipython",
    "version": 3
   },
   "file_extension": ".py",
   "mimetype": "text/x-python",
   "name": "python",
   "nbconvert_exporter": "python",
   "pygments_lexer": "ipython3",
   "version": "3.7.4"
  }
 },
 "nbformat": 4,
 "nbformat_minor": 2
}
