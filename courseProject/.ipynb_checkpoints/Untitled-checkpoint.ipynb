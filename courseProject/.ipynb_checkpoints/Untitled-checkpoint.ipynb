{
 "cells": [
  {
   "cell_type": "code",
   "execution_count": null,
   "metadata": {},
   "outputs": [],
   "source": [
    "# The system model will provide feedback to the agent from the environment regarding the next state and the reward given an \n",
    "# action in the current state. The task is episodic and will terminate after all the vehicles in the fleet have completed the \n",
    "# delivery of the goods. Initially the location of the vehicle will be at the warehouse and the capacity will be set to the \n",
    "# maximum capacity of the vehicle. All customer locations will be initialized to the initial demand.\n",
    "# The definition of the next state has three components of which the location is built within the action, which is defined as \n",
    "# the movement to a specific location. If the current capacity of the vehicle is more than the current demand, then the vehicle \n",
    "# will deliver the goods to the location. The capacity of the vehicle will be reduced accordingly and the outstanding demand at \n",
    "# the location will be set to zero.\n",
    "# If the vehicle successfully delivers the goods to the location, then the agent will receive a positive reward proportional to \n",
    "# the amount of goods delivered. Apart from the delivery component, the cost component will need to be accounted for each action.\n",
    "# The cost will be computed as the Euclidean distance between the current location and the next location.\n"
   ]
  },
  {
   "cell_type": "code",
   "execution_count": 16,
   "metadata": {},
   "outputs": [],
   "source": [
    "\n",
    "max_capacity = 10\n",
    "\n",
    "cost_factor = -5\n",
    "delivery_factor = 10\n",
    "\n",
    "class state:\n",
    "    def __init__(self,demand,location,capacity,vehicles):\n",
    "        self.demand = demand\n",
    "        self.location = location\n",
    "        self.capacity = capacity\n",
    "        self.vehicles = vehicles\n",
    "        \n",
    "    def printState(self):\n",
    "        print(\"Demand: \"+str(self.demand))\n",
    "        print(\"Location: \"+str(self.location))\n",
    "        print(\"Capacity: \"+str(self.capacity))\n",
    "        print(\"Vehicles: \"+str(self.vehicles))\n",
    "\n",
    "def system_model(state,action):\n",
    "    \n",
    "    reward_delivery = 0\n",
    "    # Compute the cost component of the reward based on the Euclidean distance between the current and next state\n",
    "    reward_cost = cost_factor * euclidean_distance(state.location,action)\n",
    "    \n",
    "    # Check is the destination is the warehouse (location = 0)\n",
    "    if action == 0:\n",
    "        capacity = max_capacity\n",
    "        state.vehicles -= 1\n",
    "    \n",
    "    # For customer location check if vehicle capacity is more than the demand\n",
    "    else:\n",
    "        if (state.capacity > state.demand[action]):\n",
    "            state.capacity -= state.demand[action]\n",
    "            reward_delivery = delivery_factor * state.demand[action]\n",
    "            state.demand[action] = 0\n",
    "            \n",
    "    state.location = action\n",
    "    reward = reward_cost + reward_delivery\n",
    "\n",
    "    return state,reward\n",
    "    \n",
    "def euclidean_distance(loc1,loc2):\n",
    "    distance = ((X[loc2]-X[loc1])**2+(Y[loc2]-Y[loc1])**2)**(1/2)\n",
    "    return distance\n",
    "    "
   ]
  },
  {
   "cell_type": "code",
   "execution_count": 17,
   "metadata": {},
   "outputs": [
    {
     "name": "stdout",
     "output_type": "stream",
     "text": [
      "['5', '4', '10']\n",
      "['0', '0', '0']\n",
      "['3', '0', '10']\n",
      "['3', '-10', '10']\n",
      "['3', '0', '-10']\n",
      "['3', '10', '-10']\n",
      "{0: 0, 1: 0, 2: -10, 3: 0, 4: 10}\n",
      "{0: 0, 1: 10, 2: 10, 3: -10, 4: -10}\n"
     ]
    }
   ],
   "source": [
    "# Reading the input file\n",
    "\n",
    "file1 = open('vrp_5_4_1', 'r') \n",
    "\n",
    "Lines = file1.readlines() \n",
    "\n",
    "demand = {}\n",
    "X={}\n",
    "Y={}\n",
    "counter = -1\n",
    " \n",
    "for line in Lines: \n",
    "    print(line.split())\n",
    "    if counter == -1:\n",
    "        N,V,c = map(int, line.split())\n",
    "    else:\n",
    "        demand[counter],X[counter],Y[counter] = map(int, line.split())\n",
    "    counter+= 1"
   ]
  },
  {
   "cell_type": "code",
   "execution_count": 18,
   "metadata": {},
   "outputs": [
    {
     "name": "stdout",
     "output_type": "stream",
     "text": [
      "Demand: {0: 0, 1: 3, 2: 3, 3: 3, 4: 3}\n",
      "Location: 0\n",
      "Capacity: 10\n",
      "Vehicles: 4\n"
     ]
    }
   ],
   "source": [
    "systemState = state(demand,0,c,V)\n",
    "\n",
    "state.printState(systemState)"
   ]
  },
  {
   "cell_type": "code",
   "execution_count": 19,
   "metadata": {},
   "outputs": [
    {
     "name": "stdout",
     "output_type": "stream",
     "text": [
      "10.0\n"
     ]
    }
   ],
   "source": [
    "systemState,reward = system_model(systemState,1)"
   ]
  },
  {
   "cell_type": "code",
   "execution_count": 20,
   "metadata": {},
   "outputs": [
    {
     "name": "stdout",
     "output_type": "stream",
     "text": [
      "Demand: {0: 0, 1: 0, 2: 3, 3: 3, 4: 3}\n",
      "Location: 1\n",
      "Capacity: 7\n",
      "Vehicles: 4\n",
      "Reward: -20.0\n"
     ]
    }
   ],
   "source": [
    "state.printState(systemState)\n",
    "print(\"Reward: \"+str(reward))"
   ]
  },
  {
   "cell_type": "code",
   "execution_count": null,
   "metadata": {},
   "outputs": [],
   "source": []
  }
 ],
 "metadata": {
  "kernelspec": {
   "display_name": "Python 3",
   "language": "python",
   "name": "python3"
  },
  "language_info": {
   "codemirror_mode": {
    "name": "ipython",
    "version": 3
   },
   "file_extension": ".py",
   "mimetype": "text/x-python",
   "name": "python",
   "nbconvert_exporter": "python",
   "pygments_lexer": "ipython3",
   "version": "3.7.4"
  }
 },
 "nbformat": 4,
 "nbformat_minor": 2
}
